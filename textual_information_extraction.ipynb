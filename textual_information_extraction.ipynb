{
 "cells": [
  {
   "cell_type": "code",
   "execution_count": 1,
   "metadata": {
    "colab": {
     "base_uri": "https://localhost:8080/",
     "height": 124
    },
    "colab_type": "code",
    "executionInfo": {
     "elapsed": 27850,
     "status": "ok",
     "timestamp": 1584346692722,
     "user": {
      "displayName": "Wenjiang Chen",
      "photoUrl": "https://lh3.googleusercontent.com/a-/AOh14Gg3eZBcSb8F57o-GF-eRmBIjCZmwHHAh-WybAOt=s64",
      "userId": "07092294420956086629"
     },
     "user_tz": -480
    },
    "id": "gCRY2DND6Bez",
    "outputId": "235a76b8-7834-45d5-cef3-d184ea1f7a21"
   },
   "outputs": [
    {
     "name": "stdout",
     "output_type": "stream",
     "text": [
      "Go to this URL in a browser: https://accounts.google.com/o/oauth2/auth?client_id=947318989803-6bn6qk8qdgf4n4g3pfee6491hc0brc4i.apps.googleusercontent.com&redirect_uri=urn%3aietf%3awg%3aoauth%3a2.0%3aoob&response_type=code&scope=email%20https%3a%2f%2fwww.googleapis.com%2fauth%2fdocs.test%20https%3a%2f%2fwww.googleapis.com%2fauth%2fdrive%20https%3a%2f%2fwww.googleapis.com%2fauth%2fdrive.photos.readonly%20https%3a%2f%2fwww.googleapis.com%2fauth%2fpeopleapi.readonly\n",
      "\n",
      "Enter your authorization code:\n",
      "··········\n",
      "Mounted at /content/drive\n"
     ]
    }
   ],
   "source": [
    "from google.colab import drive\n",
    "drive.mount('/content/drive', force_remount=True)"
   ]
  },
  {
   "cell_type": "code",
   "execution_count": 2,
   "metadata": {
    "colab": {
     "base_uri": "https://localhost:8080/",
     "height": 35
    },
    "colab_type": "code",
    "executionInfo": {
     "elapsed": 9977,
     "status": "ok",
     "timestamp": 1584347314917,
     "user": {
      "displayName": "Wenjiang Chen",
      "photoUrl": "https://lh3.googleusercontent.com/a-/AOh14Gg3eZBcSb8F57o-GF-eRmBIjCZmwHHAh-WybAOt=s64",
      "userId": "07092294420956086629"
     },
     "user_tz": -480
    },
    "id": "ea9NxdFM7Ghp",
    "outputId": "40a05990-4765-4bbb-bc22-3add18a771e3"
   },
   "outputs": [
    {
     "name": "stdout",
     "output_type": "stream",
     "text": [
      "TensorFlow 2.x selected.\n"
     ]
    }
   ],
   "source": [
    "try:\n",
    "  # %tensorflow_version only exists in Colab.\n",
    "  %tensorflow_version 2.x\n",
    "except Exception:\n",
    "  pass\n",
    "import tensorflow as tf"
   ]
  },
  {
   "cell_type": "code",
   "execution_count": 0,
   "metadata": {
    "colab": {},
    "colab_type": "code",
    "id": "tFCdveYB54Sv"
   },
   "outputs": [],
   "source": [
    "import sys\n",
    "sys.path.append(\"/content/drive/My Drive/Colab Notebooks/models/research\")\n",
    "sys.path.append(\"/content/drive/My Drive/Colab Notebooks/models/research/slim\")"
   ]
  },
  {
   "cell_type": "code",
   "execution_count": 0,
   "metadata": {
    "colab": {},
    "colab_type": "code",
    "id": "LZjtdaiTwMHK"
   },
   "outputs": [],
   "source": [
    "# evaluate the model\n",
    "!export PYTHONPATH=PYTHONPATH:\"/content/drive/My Drive/Colab Notebooks/models/research\":\"/content/drive/My Drive/Colab Notebooks/models/research/slim\" && cd \"/content/drive/My Drive/Colab Notebooks/models/research\" && python object_detection/legacy/eval.py --logtostderr --checkpoint_dir=\"/content/drive/My Drive/Colab Notebooks/workspace/training_demo/training\" --eval_dir=\"/content/drive/My Drive/Colab Notebooks/workspace/training_demo/eval\" --pipeline_config_path=\"/content/drive/My Drive/Colab Notebooks/workspace/training_demo/training/faster_rcnn_resnet101_coco.config\""
   ]
  },
  {
   "cell_type": "code",
   "execution_count": 0,
   "metadata": {
    "colab": {},
    "colab_type": "code",
    "id": "nUhFcc1E7RNd"
   },
   "outputs": [],
   "source": [
    "# train the model\n",
    "!export PYTHONPATH=PYTHONPATH:\"/content/drive/My Drive/Colab Notebooks/models/research\":\"/content/drive/My Drive/Colab Notebooks/models/research/slim\" && cd \"/content/drive/My Drive/Colab Notebooks/models/research\" && python object_detection/model_main.py --aslologtostderr --model_dir=\"/content/drive/My Drive/Colab Notebooks/workspace/training_demo/training\" --pipeline_config_path=\"/content/drive/My Drive/Colab Notebooks/workspace/training_demo/training/faster_rcnn_resnet101_coco.config\""
   ]
  },
  {
   "cell_type": "code",
   "execution_count": 0,
   "metadata": {
    "colab": {},
    "colab_type": "code",
    "id": "RvnK6Okh9dhj"
   },
   "outputs": [],
   "source": [
    "# export the model\n",
    "!export PYTHONPATH=PYTHONPATH:\"/content/drive/My Drive/Colab Notebooks/models/research\":\"/content/drive/My Drive/Colab Notebooks/models/research/slim\" && cd \"/content/drive/My Drive/Colab Notebooks/models/research\" && python object_detection/export_inference_graph.py --input_type image_tensor --pipeline_config_path \"/content/drive/My Drive/Colab Notebooks/workspace/training_demo/training/faster_rcnn_resnet101_coco.config\" --trained_checkpoint_prefix \"/content/drive/My Drive/Colab Notebooks/workspace/training_demo/training/model.ckpt-585766\" --output_directory \"/content/drive/My Drive/Colab Notebooks/trained-inference-graph_v3\""
   ]
  },
  {
   "cell_type": "code",
   "execution_count": 0,
   "metadata": {
    "colab": {},
    "colab_type": "code",
    "id": "BpZ-fG2pA5Tj"
   },
   "outputs": [],
   "source": [
    "!git clone --depth 1 https://github.com/tensorflow/models\n",
    "!cd models/research/ && protoc object_detection/protos/*.proto --python_out=.\n",
    "!cd models/research/ && pip install ."
   ]
  },
  {
   "cell_type": "code",
   "execution_count": 0,
   "metadata": {
    "colab": {},
    "colab_type": "code",
    "id": "gKlLF2iZ3HBe"
   },
   "outputs": [],
   "source": [
    "from object_detection.utils import ops as utils_ops\n",
    "from object_detection.utils import label_map_util\n",
    "from object_detection.utils import visualization_utils as vis_util"
   ]
  },
  {
   "cell_type": "code",
   "execution_count": 0,
   "metadata": {
    "colab": {},
    "colab_type": "code",
    "id": "CEbU7wCI7QIK"
   },
   "outputs": [],
   "source": [
    "# patch tf1 into `utils.ops`\n",
    "utils_ops.tf = tf.compat.v1\n",
    "\n",
    "# Patch the location of gfile\n",
    "tf.gfile = tf.io.gfile"
   ]
  },
  {
   "cell_type": "code",
   "execution_count": 0,
   "metadata": {
    "colab": {
     "base_uri": "https://localhost:8080/",
     "height": 52
    },
    "colab_type": "code",
    "executionInfo": {
     "elapsed": 4664,
     "status": "ok",
     "timestamp": 1573350135415,
     "user": {
      "displayName": "yifeng chen",
      "photoUrl": "",
      "userId": "08086188176877750580"
     },
     "user_tz": -480
    },
    "id": "-WsawZhSw3-q",
    "outputId": "01e0c902-b475-4ec6-fdec-a8ed28a6aea1"
   },
   "outputs": [
    {
     "name": "stdout",
     "output_type": "stream",
     "text": [
      "Converting ...\n",
      "Successfully converted to csv\n"
     ]
    }
   ],
   "source": [
    "!export PYTHONPATH=PYTHONPATH:\"/content/drive/My Drive/Colab Notebooks/models/research\":\"/content/drive/My Drive/Colab Notebooks/models/research/slim\" && cd \"/content/drive/My Drive/Colab Notebooks/scripts/preprocessing\" && python ./generate_csv.py -i \"/content/drive/My Drive/data/test\" -o \"/content/drive/My Drive/Colab Notebooks/workspace/training_demo/annotations/test_labels.csv\""
   ]
  },
  {
   "cell_type": "code",
   "execution_count": 0,
   "metadata": {
    "colab": {},
    "colab_type": "code",
    "id": "xC1ES9sY3mEb"
   },
   "outputs": [],
   "source": [
    "!export PYTHONPATH=PYTHONPATH:\"/content/drive/My Drive/Colab Notebooks/models/research\":\"/content/drive/My Drive/Colab Notebooks/models/research/slim\" && cd \"/content/drive/My Drive/Colab Notebooks/scripts/preprocessing\" && python ./generate_tfr.py --csv_input=\"/content/drive/My Drive/Colab Notebooks/workspace/training_demo/annotations/test_labels.csv\" --img_path=\"/content/drive/My Drive/data/test/plots\" --output_path=\"/content/drive/My Drive/Colab Notebooks/workspace/training_demo/annotations/test.record\""
   ]
  },
  {
   "cell_type": "code",
   "execution_count": 0,
   "metadata": {
    "colab": {},
    "colab_type": "code",
    "id": "-BXTxrST-STt"
   },
   "outputs": [],
   "source": []
  },
  {
   "cell_type": "code",
   "execution_count": 0,
   "metadata": {
    "colab": {},
    "colab_type": "code",
    "id": "q-DsaIvl283e"
   },
   "outputs": [],
   "source": [
    "import numpy as np\n",
    "import os\n",
    "import pathlib\n",
    "import six.moves.urllib as urllib\n",
    "import sys\n",
    "import tarfile\n",
    "import tensorflow as tf\n",
    "import zipfile\n",
    "\n",
    "from collections import defaultdict\n",
    "from io import StringIO\n",
    "from matplotlib import pyplot as plt\n",
    "from PIL import Image\n",
    "from IPython.display import display"
   ]
  },
  {
   "cell_type": "code",
   "execution_count": 0,
   "metadata": {
    "colab": {},
    "colab_type": "code",
    "id": "i6byCtJc3Uux"
   },
   "outputs": [],
   "source": [
    "def load_model(model_dir):\n",
    "\n",
    "  model_dir = pathlib.Path(model_dir)/\"saved_model\"\n",
    "  print(model_dir)\n",
    "  model = tf.saved_model.load(str(model_dir))\n",
    "  model = model.signatures['serving_default']\n",
    "\n",
    "  return model"
   ]
  },
  {
   "cell_type": "code",
   "execution_count": 8,
   "metadata": {
    "colab": {
     "base_uri": "https://localhost:8080/",
     "height": 121
    },
    "colab_type": "code",
    "executionInfo": {
     "elapsed": 2450,
     "status": "ok",
     "timestamp": 1584347348720,
     "user": {
      "displayName": "Wenjiang Chen",
      "photoUrl": "https://lh3.googleusercontent.com/a-/AOh14Gg3eZBcSb8F57o-GF-eRmBIjCZmwHHAh-WybAOt=s64",
      "userId": "07092294420956086629"
     },
     "user_tz": -480
    },
    "id": "Mx79NcTa4crf",
    "outputId": "50b5ccfb-9a5d-4981-e971-1002f0b1a452"
   },
   "outputs": [
    {
     "data": {
      "text/plain": [
       "{1: {'id': 1, 'name': 'title'},\n",
       " 2: {'id': 2, 'name': 'legend'},\n",
       " 3: {'id': 3, 'name': 'x_label'},\n",
       " 4: {'id': 4, 'name': 'y_label'},\n",
       " 5: {'id': 5, 'name': 'x_title'},\n",
       " 6: {'id': 6, 'name': 'y_title'}}"
      ]
     },
     "execution_count": 8,
     "metadata": {
      "tags": []
     },
     "output_type": "execute_result"
    }
   ],
   "source": [
    "# List of the strings that is used to add correct label for each box.\n",
    "PATH_TO_LABELS = '/content/drive/My Drive/Colab Notebooks/workspace/training_demo/annotations/label_map.pbtxt'\n",
    "category_index = label_map_util.create_category_index_from_labelmap(PATH_TO_LABELS, use_display_name=True)\n",
    "category_index"
   ]
  },
  {
   "cell_type": "code",
   "execution_count": 18,
   "metadata": {
    "colab": {
     "base_uri": "https://localhost:8080/",
     "height": 52
    },
    "colab_type": "code",
    "executionInfo": {
     "elapsed": 1477,
     "status": "ok",
     "timestamp": 1584347688176,
     "user": {
      "displayName": "Wenjiang Chen",
      "photoUrl": "https://lh3.googleusercontent.com/a-/AOh14Gg3eZBcSb8F57o-GF-eRmBIjCZmwHHAh-WybAOt=s64",
      "userId": "07092294420956086629"
     },
     "user_tz": -480
    },
    "id": "5EKxBfDw4sFb",
    "outputId": "44d47b93-87bd-4d16-b1ca-1185084ec283"
   },
   "outputs": [
    {
     "data": {
      "text/plain": [
       "[PosixPath('/content/drive/My Drive/test_dir/train_318.jpg'),\n",
       " PosixPath('/content/drive/My Drive/test_dir/train_357.jpg')]"
      ]
     },
     "execution_count": 18,
     "metadata": {
      "tags": []
     },
     "output_type": "execute_result"
    }
   ],
   "source": [
    "# If you want to test the code with your images, just add path to the images to the TEST_IMAGE_PATHS.\n",
    "PATH_TO_TEST_IMAGES_DIR = pathlib.Path('/content/drive/My Drive/test_dir')\n",
    "TEST_IMAGE_PATHS = sorted(list(PATH_TO_TEST_IMAGES_DIR.glob(\"*.jpg\")))\n",
    "TEST_IMAGE_PATHS"
   ]
  },
  {
   "cell_type": "code",
   "execution_count": 10,
   "metadata": {
    "colab": {
     "base_uri": "https://localhost:8080/",
     "height": 52
    },
    "colab_type": "code",
    "executionInfo": {
     "elapsed": 15546,
     "status": "ok",
     "timestamp": 1584347370897,
     "user": {
      "displayName": "Wenjiang Chen",
      "photoUrl": "https://lh3.googleusercontent.com/a-/AOh14Gg3eZBcSb8F57o-GF-eRmBIjCZmwHHAh-WybAOt=s64",
      "userId": "07092294420956086629"
     },
     "user_tz": -480
    },
    "id": "NUoqsxF25KgR",
    "outputId": "92660b01-677c-490f-a6ba-05a1dbc5e70c"
   },
   "outputs": [
    {
     "name": "stdout",
     "output_type": "stream",
     "text": [
      "/content/drive/My Drive/Colab Notebooks/trained-inference-graph/saved_model\n",
      "INFO:tensorflow:Saver not created because there are no variables in the graph to restore\n"
     ]
    }
   ],
   "source": [
    "model_name = '/content/drive/My Drive/Colab Notebooks/trained-inference-graph'\n",
    "detection_model = load_model(model_name)"
   ]
  },
  {
   "cell_type": "code",
   "execution_count": 0,
   "metadata": {
    "colab": {
     "base_uri": "https://localhost:8080/",
     "height": 211
    },
    "colab_type": "code",
    "executionInfo": {
     "elapsed": 1652,
     "status": "ok",
     "timestamp": 1573465931156,
     "user": {
      "displayName": "WenJian Chen",
      "photoUrl": "",
      "userId": "04377490914918460432"
     },
     "user_tz": -480
    },
    "id": "4ld4LKow5xny",
    "outputId": "9ae57682-cf6f-4762-86e2-5519a471fcb2"
   },
   "outputs": [
    {
     "name": "stdout",
     "output_type": "stream",
     "text": [
      "[<tf.Tensor 'image_tensor:0' shape=(None, None, None, 3) dtype=uint8>]\n",
      "{'raw_detection_scores': tf.float32, 'detection_multiclass_scores': tf.float32, 'detection_classes': tf.float32, 'num_detections': tf.float32, 'detection_boxes': tf.float32, 'raw_detection_boxes': tf.float32, 'detection_features': tf.float32, 'detection_scores': tf.float32}\n"
     ]
    },
    {
     "data": {
      "text/plain": [
       "{'detection_boxes': TensorShape([None, 300, 4]),\n",
       " 'detection_classes': TensorShape([None, 300]),\n",
       " 'detection_features': TensorShape([None, None, None, None, None]),\n",
       " 'detection_multiclass_scores': TensorShape([None, 300, 7]),\n",
       " 'detection_scores': TensorShape([None, 300]),\n",
       " 'num_detections': TensorShape([None]),\n",
       " 'raw_detection_boxes': TensorShape([None, 300, 4]),\n",
       " 'raw_detection_scores': TensorShape([None, 300, 7])}"
      ]
     },
     "execution_count": 15,
     "metadata": {
      "tags": []
     },
     "output_type": "execute_result"
    }
   ],
   "source": [
    "print(detection_model.inputs)\n",
    "print(detection_model.output_dtypes)\n",
    "detection_model.output_shapes"
   ]
  },
  {
   "cell_type": "code",
   "execution_count": 0,
   "metadata": {
    "colab": {},
    "colab_type": "code",
    "id": "Dk4H3WkK-zFC"
   },
   "outputs": [],
   "source": [
    "def run_inference_for_single_image(model, image):\n",
    "  image = np.asarray(image)\n",
    "  # The input needs to be a tensor, convert it using `tf.convert_to_tensor`.\n",
    "  input_tensor = tf.convert_to_tensor(image)\n",
    "  # The model expects a batch of images, so add an axis with `tf.newaxis`.\n",
    "  input_tensor = input_tensor[tf.newaxis,...]\n",
    "\n",
    "  # Run inference\n",
    "  output_dict = model(input_tensor)\n",
    "\n",
    "  # All outputs are batches tensors.\n",
    "  # Convert to numpy arrays, and take index [0] to remove the batch dimension.\n",
    "  # We're only interested in the first num_detections.\n",
    "  num_detections = int(output_dict.pop('num_detections'))\n",
    "  output_dict = {key:value[0, :num_detections].numpy() \n",
    "                 for key,value in output_dict.items()}\n",
    "  output_dict['num_detections'] = num_detections\n",
    "\n",
    "  # detection_classes should be ints.\n",
    "  output_dict['detection_classes'] = output_dict['detection_classes'].astype(np.int64)\n",
    "   \n",
    "  # Handle models with masks:\n",
    "  if 'detection_masks' in output_dict:\n",
    "    # Reframe the the bbox mask to the image size.\n",
    "    detection_masks_reframed = utils_ops.reframe_box_masks_to_image_masks(\n",
    "              output_dict['detection_masks'], output_dict['detection_boxes'],\n",
    "               image.shape[0], image.shape[1])      \n",
    "    detection_masks_reframed = tf.cast(detection_masks_reframed > 0.5,\n",
    "                                       tf.uint8)\n",
    "    output_dict['detection_masks_reframed'] = detection_masks_reframed.numpy()\n",
    "    \n",
    "  return output_dict"
   ]
  },
  {
   "cell_type": "code",
   "execution_count": 0,
   "metadata": {
    "colab": {},
    "colab_type": "code",
    "id": "SqKo7TNj-1rc"
   },
   "outputs": [],
   "source": [
    "from aip import AipOcr\n",
    "import cv2\n",
    "import time\n",
    "def show_inference(model, image_path):\n",
    "  # the array based representation of the image will be used later in order to prepare the\n",
    "  # result image with boxes and labels on it.\n",
    "  #image_np = np.array(Image.open(image_path))\n",
    "  st = time.time()\n",
    "  image_np = cv2.imread(str(image_path))\n",
    "  image_np = cv2.cvtColor(image_np, cv2.COLOR_BGR2RGB)\n",
    "  # Actual detection.\n",
    "  output_dict = run_inference_for_single_image(model, image_np)\n",
    "  scores = output_dict[\"detection_scores\"]\n",
    "  classes = output_dict[\"detection_classes\"][scores > CONFIDENCE]\n",
    "  boxes = output_dict[\"detection_boxes\"][scores > CONFIDENCE]\n",
    "  scores = scores[scores > CONFIDENCE]\n",
    "  client = AipOcr(APP_ID, API_KEY, SECRET_KEY)\n",
    "  print(\"inference time %f\" % (time.time() - st))\n",
    "  result_dict, scale, img_list = extract_and_recognize_text(output_dict, image_np, client)\n",
    "  for i,img in enumerate(img_list):\n",
    "    cv2.imwrite(\"{}.jpg\".format(i), img)\n",
    "  # Visualization of the results of a detection.\n",
    "  vis_util.visualize_boxes_and_labels_on_image_array(\n",
    "      image_np,\n",
    "      boxes,\n",
    "      classes,\n",
    "      scores,\n",
    "      category_index,\n",
    "      instance_masks=output_dict.get('detection_masks_reframed', None),\n",
    "      use_normalized_coordinates=True,\n",
    "      line_thickness=3)\n",
    "\n",
    "  display(Image.fromarray(image_np))"
   ]
  },
  {
   "cell_type": "code",
   "execution_count": 35,
   "metadata": {
    "colab": {
     "base_uri": "https://localhost:8080/",
     "height": 1000
    },
    "colab_type": "code",
    "executionInfo": {
     "elapsed": 28701,
     "status": "ok",
     "timestamp": 1584349485353,
     "user": {
      "displayName": "Wenjiang Chen",
      "photoUrl": "https://lh3.googleusercontent.com/a-/AOh14Gg3eZBcSb8F57o-GF-eRmBIjCZmwHHAh-WybAOt=s64",
      "userId": "07092294420956086629"
     },
     "user_tz": -480
    },
    "id": "A2WIVU5CRQ26",
    "outputId": "8aa0f813-002a-4636-9439-327ce85c54e3"
   },
   "outputs": [
    {
     "name": "stdout",
     "output_type": "stream",
     "text": [
      "inference time 0.393647\n",
      "defaultdict(<class 'int'>, {100: 2, 4: 4, 2: 2, 0: 4, 92: 2, 30: 2, 24: 2, 1: 2})\n"
     ]
    },
    {
     "data": {
      "image/png": "[encoded data removed]",
      "text/plain": [
       "<PIL.Image.Image image mode=RGB size=408x408 at 0x7F62C3106B38>"
      ]
     },
     "metadata": {
      "tags": []
     },
     "output_type": "display_data"
    },
    {
     "name": "stdout",
     "output_type": "stream",
     "text": [
      "14.57516884803772\n",
      "inference time 0.392672\n",
      "defaultdict(<class 'int'>, {10: 42, 11: 4, 12: 4, 13: 2, 15: 2, 20: 2})\n"
     ]
    },
    {
     "data": {
      "image/png": "[encoded data removed]",
      "text/plain": [
       "<PIL.Image.Image image mode=RGB size=553x553 at 0x7F62C3106B38>"
      ]
     },
     "metadata": {
      "tags": []
     },
     "output_type": "display_data"
    },
    {
     "name": "stdout",
     "output_type": "stream",
     "text": [
      "12.547287464141846\n"
     ]
    }
   ],
   "source": [
    "for image_path in TEST_IMAGE_PATHS:\n",
    "  st = time.time()\n",
    "  show_inference(detection_model, image_path)\n",
    "  print(time.time() - st)"
   ]
  },
  {
   "cell_type": "code",
   "execution_count": 0,
   "metadata": {
    "colab": {},
    "colab_type": "code",
    "id": "5H1-syFc-4z-"
   },
   "outputs": [],
   "source": [
    "for image_path in TEST_IMAGE_PATHS:\n",
    "  show_inference(detection_model, image_path)"
   ]
  },
  {
   "cell_type": "code",
   "execution_count": 0,
   "metadata": {
    "colab": {},
    "colab_type": "code",
    "id": "yVAjBR9N5Fwr"
   },
   "outputs": [],
   "source": [
    "import time\n",
    "def extract_and_recognize_text(output_dict, image, client):\n",
    "    \n",
    "    # preprocess the image\n",
    "    #cv2.imwrite(\"original.jpg\", image)\n",
    "    height, width = image.shape[:2]\n",
    "    #print(image.shape)\n",
    "    #image = cv2.cvtColor(image, cv2.COLOR_RGB2GRAY)\n",
    "    #thresh, image = cv2.threshold(image, 128, 255, cv2.THRESH_BINARY | cv2.THRESH_OTSU)\n",
    "    \n",
    "    # choose the result that have high confidence\n",
    "    scores = output_dict[\"detection_scores\"]\n",
    "    classes = output_dict[\"detection_classes\"][scores > CONFIDENCE]\n",
    "    boxes = output_dict[\"detection_boxes\"][scores > CONFIDENCE]\n",
    "    scores = scores[scores > CONFIDENCE]\n",
    "\n",
    "    category_index = label_map_util.create_category_index_from_labelmap(PATH_TO_LABELS, use_display_name=True)\n",
    "    result_dict = {}\n",
    "    for _, v in category_index.items():\n",
    "        result_dict[v[\"name\"]] = []\n",
    "    img_list = []\n",
    "    for i in range(len(scores)):\n",
    "        ymin = int(boxes[i][0] * height)\n",
    "        xmin = int(boxes[i][1] * width)\n",
    "        ymax = int(boxes[i][2] * height)\n",
    "        xmax = int(boxes[i][3] * width)\n",
    "        \n",
    "        # crop a little bit larger area\n",
    "        if ymin - MARGIN >= 0:\n",
    "            ymin -= MARGIN\n",
    "        if xmin - MARGIN >= 0:\n",
    "            xmin -= MARGIN\n",
    "        if ymax + MARGIN <= height:\n",
    "            ymax += MARGIN\n",
    "        if xmax + MARGIN <= width:\n",
    "            xmax += MARGIN\n",
    "        #print(category_index[classes[i]][\"name\"], xmin, ymin, xmax, ymax)\n",
    "        cropped_img = image[ymin:ymax, xmin:xmax]\n",
    "        # if we have vertical oriented text\n",
    "        if cropped_img.shape[0] > cropped_img.shape[1]:\n",
    "            cropped_img = np.transpose(cropped_img, axes=(1, 0, 2))\n",
    "\n",
    "        #cropped_img = cv2.resize(cropped_img, (cropped_img.shape[0] * 2, cropped_img.shape[1] * 2))\n",
    "        img_list.append(cropped_img)\n",
    "\n",
    "        res_, encoded_img = cv2.imencode(\".png\", cropped_img)\n",
    "        options = {}\n",
    "        options[\"language_type\"] = \"ENG\"\n",
    "        options[\"probability\"] = \"true\"\n",
    "        ocr_result = client.basicGeneral(encoded_img, options)\n",
    "        #time.sleep(1)\n",
    "        #print(ocr_result)\n",
    "        if \"error_code\" in ocr_result or ocr_result[\"words_result_num\"] == 0:\n",
    "            continue\n",
    "        text_class= category_index[classes[i]][\"name\"]\n",
    "        if text_class in [\"x_label\", \"y_label\", \"legend\"]:\n",
    "            result_dict[text_class].append({\"text\":ocr_result[\"words_result\"][0][\"words\"], \"bbox\":[xmin, ymin, xmax, ymax]})\n",
    "        else:\n",
    "            result_dict[text_class].append(ocr_result[\"words_result\"][0][\"words\"])\n",
    "    \n",
    "    result_dict[\"x_label\"] = order_text_list(result_dict[\"x_label\"], False)\n",
    "    result_dict[\"y_label\"], scale = order_text_list(result_dict[\"y_label\"], True)\n",
    "    result_dict[\"legend\"] = order_text_list(result_dict[\"legend\"], False)\n",
    "\n",
    "    return result_dict, scale, img_list\n",
    "\n",
    "def order_text_list(text_list, is_get_scale):\n",
    "    if len(text_list) == 0:\n",
    "        return []\n",
    "    \n",
    "    x_list = []\n",
    "    y_list = []\n",
    "    for item in text_list:\n",
    "        x_list.append((item[\"bbox\"][0] + item[\"bbox\"][2]) / 2)\n",
    "        y_list.append((item[\"bbox\"][1] + item[\"bbox\"][3]) / 2)\n",
    "\n",
    "    if np.std(x_list) < np.std(y_list):\n",
    "        # vertical\n",
    "        text_list = sorted(text_list, key=lambda item: (item[\"bbox\"][1] + item[\"bbox\"][3]) / 2)\n",
    "    else:\n",
    "        text_list = sorted(text_list, key=lambda item: (item[\"bbox\"][0] + item[\"bbox\"][2]) / 2)\n",
    "    \n",
    "    sorted_text_list = [i[\"text\"] for i in text_list]\n",
    "    if not is_get_scale:\n",
    "        return sorted_text_list\n",
    "    # calculate scale\n",
    "    # assumption: bbox data is correct\n",
    "    count = defaultdict(int)\n",
    "    for i in range(len(text_list)):\n",
    "        for j in range(len(text_list)):\n",
    "            if i != j:\n",
    "                try:\n",
    "                  dist = abs(int(text_list[i][\"text\"]) - int(text_list[j][\"text\"])) / abs(i - j)\n",
    "                  count[int(dist)] += 1\n",
    "                except:\n",
    "                  pass\n",
    "\n",
    "    frequent_dist = 0\n",
    "    max_count = 0\n",
    "    for k, v in count.items():\n",
    "        if v > max_count:\n",
    "            frequent_dist = k\n",
    "            max_count = v\n",
    "    print(count)\n",
    "    if np.std(x_list) < np.std(y_list):\n",
    "        #vertical\n",
    "        y_dist_list = [(item[\"bbox\"][1] + item[\"bbox\"][3]) / 2 for item in text_list]\n",
    "    else:\n",
    "        y_dist_list = [(item[\"bbox\"][0] + item[\"bbox\"][2]) / 2 for item in text_list]\n",
    "    dist_sum = []\n",
    "    for i in range(len(y_dist_list) - 1):\n",
    "      dist_sum.append(abs(y_dist_list[i + 1] - y_dist_list[i]))\n",
    "\n",
    "    scale= frequent_dist / np.mean(dist_sum)\n",
    "\n",
    "    return sorted_text_list, scale\n",
    "\n",
    "def get_textinfo(image_path):\n",
    "\n",
    "    model = load_model()\n",
    "    img = cv2.imread(image_path)\n",
    "    img = cv2.cvtColor(img, cv2.COLOR_BGR2RGB)\n",
    "    output_dict = run_inference_for_single_image(model, img)\n",
    "    client = AipOcr(APP_ID, API_KEY, SECRET_KEY)\n",
    "    result_dict = extract_and_recognize_text(output_dict, img, client)\n",
    "\n",
    "    return result_dict"
   ]
  },
  {
   "cell_type": "code",
   "execution_count": 0,
   "metadata": {
    "colab": {},
    "colab_type": "code",
    "id": "yG0APN7R5bdx"
   },
   "outputs": [],
   "source": [
    "CONFIDENCE = 0.9\n",
    "MARGIN = 5\n",
    "APP_ID = '16244347'\n",
    "API_KEY = '3qHaDdv33HVwWvYsEiS7X8i9'\n",
    "SECRET_KEY = '48cMDGIwytaHwFNdtrn9nbG5mjMPDsXn'"
   ]
  },
  {
   "cell_type": "code",
   "execution_count": 13,
   "metadata": {
    "colab": {
     "base_uri": "https://localhost:8080/",
     "height": 279
    },
    "colab_type": "code",
    "executionInfo": {
     "elapsed": 6454,
     "status": "ok",
     "timestamp": 1584347431990,
     "user": {
      "displayName": "Wenjiang Chen",
      "photoUrl": "https://lh3.googleusercontent.com/a-/AOh14Gg3eZBcSb8F57o-GF-eRmBIjCZmwHHAh-WybAOt=s64",
      "userId": "07092294420956086629"
     },
     "user_tz": -480
    },
    "id": "BBO7uolk5nKS",
    "outputId": "723ebd22-2d0e-4732-f411-6695cc3202b0"
   },
   "outputs": [
    {
     "name": "stdout",
     "output_type": "stream",
     "text": [
      "Collecting baidu-aip\n",
      "  Downloading https://files.pythonhosted.org/packages/bf/de/0e770c421bd70b0b59d59d1bcf70139cf0ad4263102a7fc2973c6187174a/baidu-aip-2.2.18.0.tar.gz\n",
      "Requirement already satisfied: requests in /tensorflow-2.1.0/python3.6 (from baidu-aip) (2.23.0)\n",
      "Requirement already satisfied: urllib3!=1.25.0,!=1.25.1,<1.26,>=1.21.1 in /tensorflow-2.1.0/python3.6 (from requests->baidu-aip) (1.25.8)\n",
      "Requirement already satisfied: certifi>=2017.4.17 in /tensorflow-2.1.0/python3.6 (from requests->baidu-aip) (2019.11.28)\n",
      "Requirement already satisfied: chardet<4,>=3.0.2 in /tensorflow-2.1.0/python3.6 (from requests->baidu-aip) (3.0.4)\n",
      "Requirement already satisfied: idna<3,>=2.5 in /tensorflow-2.1.0/python3.6 (from requests->baidu-aip) (2.9)\n",
      "Building wheels for collected packages: baidu-aip\n",
      "  Building wheel for baidu-aip (setup.py) ... \u001b[?25l\u001b[?25hdone\n",
      "  Created wheel for baidu-aip: filename=baidu_aip-2.2.18.0-cp36-none-any.whl size=15655 sha256=81044a8d12d0f326c2abe88c398078aa2248424574b1180ef53eba1b8f418fe6\n",
      "  Stored in directory: /root/.cache/pip/wheels/5e/f3/20/9567d96b1140f13546bb3e059827cba0d575e213e8ee87f5ea\n",
      "Successfully built baidu-aip\n",
      "Installing collected packages: baidu-aip\n",
      "Successfully installed baidu-aip-2.2.18.0\n"
     ]
    }
   ],
   "source": [
    "!pip install baidu-aip"
   ]
  },
  {
   "cell_type": "code",
   "execution_count": 0,
   "metadata": {
    "colab": {},
    "colab_type": "code",
    "id": "-mzEnBBZrUsV"
   },
   "outputs": [],
   "source": [
    "path = '/content/drive/My Drive/data/test/plots/test_27.png'\n",
    "with open(path, \"rb\") as f:\n",
    "  data = f.read()\n",
    "client = AipOcr(APP_ID, API_KEY, SECRET_KEY)\n",
    "options = {}\n",
    "options[\"language_type\"] = \"ENG\"\n",
    "ocr_result = client.basicAccurate(data, options)\n",
    "\n",
    "image_np = cv2.imread(path)\n",
    "display(Image.fromarray(image_np))\n",
    "ocr_result"
   ]
  },
  {
   "cell_type": "code",
   "execution_count": 0,
   "metadata": {
    "colab": {},
    "colab_type": "code",
    "id": "BgkuwTBf9k9L"
   },
   "outputs": [],
   "source": [
    "!python char2data_run.py"
   ]
  },
  {
   "cell_type": "code",
   "execution_count": 0,
   "metadata": {
    "colab": {},
    "colab_type": "code",
    "id": "bm2wwtcHFB9B"
   },
   "outputs": [],
   "source": [
    "%load_ext autoreload\n",
    "%autoreload 2\n",
    "\n",
    "import os\n",
    "from aip import AipOcr\n",
    "import tensorflow as tf\n",
    "\n",
    "from model_number import evaluate, restore_model\n",
    "from model_text import get_textinfo, load_model\n",
    "from remote_config import *"
   ]
  },
  {
   "cell_type": "code",
   "execution_count": 0,
   "metadata": {
    "colab": {},
    "colab_type": "code",
    "id": "C9m4eCJZTwTh"
   },
   "outputs": [],
   "source": [
    "encoder, decoder, _optimizer = restore_model()\n",
    "text_extractor = load_model()"
   ]
  },
  {
   "cell_type": "code",
   "execution_count": 0,
   "metadata": {
    "colab": {},
    "colab_type": "code",
    "id": "csSJyZGhJrmv"
   },
   "outputs": [],
   "source": [
    "def run():\n",
    "\n",
    "    img_list = os.listdir(MODEL_TEST_DIR)\n",
    "    img_list = [MODEL_TEST_DIR + i for i in img_list]\n",
    "\n",
    "\n",
    "\n",
    "    # baidu ocr\n",
    "    client = AipOcr(APP_ID, API_KEY, SECRET_KEY)\n",
    "\n",
    "    #run both models for every image\n",
    "    for single_img_path in img_list:\n",
    "\n",
    "        result_text, scale, orientation, img_shape = get_textinfo(single_img_path, text_extractor, client)\n",
    "        result_number, attention = evaluate(single_img_path, encoder, decoder)\n",
    "\n",
    "        result = {}\n",
    "        for k, v in result_text.items():\n",
    "            if len(v) != 0 and k != \"y_label\":\n",
    "                if k in [\"title\", \"x_title\", \"y_title\"]:\n",
    "                    result[k] = v[0]\n",
    "                else:\n",
    "                    result[k] = v\n",
    "\n",
    "        result_number = [i[2] for i in result_number]\n",
    "        w_or_h = img_shape[0] if orientation == \"vertical\" else img_shape[1]\n",
    "        result_number = [int(i * w_or_h * scale) for i in result_number]\n",
    "        result[\"data\"] = result_number\n",
    "\n",
    "        print(single_img_path, result)\n",
    "run()"
   ]
  },
  {
   "cell_type": "code",
   "execution_count": 0,
   "metadata": {
    "colab": {},
    "colab_type": "code",
    "id": "h3vIB6O6WQjs"
   },
   "outputs": [],
   "source": [
    "!cd /content/drive/My\\ Drive/ && unzip data.zip"
   ]
  },
  {
   "cell_type": "code",
   "execution_count": 0,
   "metadata": {
    "colab": {},
    "colab_type": "code",
    "id": "XDi8YzSwolTu"
   },
   "outputs": [],
   "source": []
  }
 ],
 "metadata": {
  "accelerator": "GPU",
  "colab": {
   "collapsed_sections": [],
   "name": "chart2data_text.ipynb",
   "provenance": [],
   "toc_visible": true
  },
  "kernelspec": {
   "display_name": "Python 3",
   "language": "python",
   "name": "python3"
  },
  "language_info": {
   "codemirror_mode": {
    "name": "ipython",
    "version": 3
   },
   "file_extension": ".py",
   "mimetype": "text/x-python",
   "name": "python",
   "nbconvert_exporter": "python",
   "pygments_lexer": "ipython3",
   "version": "3.8.3"
  }
 },
 "nbformat": 4,
 "nbformat_minor": 1
}
